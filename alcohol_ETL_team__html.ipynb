{
 "cells": [
  {
   "cell_type": "code",
   "execution_count": null,
   "metadata": {},
   "outputs": [],
   "source": [
    "import pandas as pd\n",
    "import matplotlib.pyplot as plt\n",
    "from sqlalchemy import create_engine"
   ]
  },
  {
   "cell_type": "markdown",
   "metadata": {},
   "source": [
    "# Extract CSVs into DataFrames"
   ]
  },
  {
   "cell_type": "code",
   "execution_count": null,
   "metadata": {},
   "outputs": [],
   "source": [
    "wine_data_150 = \"Resources/winemag-data_first150k.csv\"\n",
    "wine_data_150_df = pd.read_csv(wine_data_150)\n",
    "wine_data_150_df.head()"
   ]
  },
  {
   "cell_type": "code",
   "execution_count": null,
   "metadata": {},
   "outputs": [],
   "source": [
    "wine_data_130 = \"Resources/winemag-data-130k-v2.csv\"\n",
    "wine_data_130_df = pd.read_csv(wine_data_130)\n",
    "wine_data_130_df.head()"
   ]
  },
  {
   "cell_type": "code",
   "execution_count": null,
   "metadata": {},
   "outputs": [],
   "source": [
    "wine_data_json = \"Resources/winemag-data-130k-v2.json\"\n",
    "wine_data_json_df = pd.read_json(wine_data_json)\n",
    "wine_data_json_df.head()"
   ]
  },
  {
   "cell_type": "markdown",
   "metadata": {},
   "source": [
    "# Transform DataFrames"
   ]
  },
  {
   "cell_type": "code",
   "execution_count": null,
   "metadata": {},
   "outputs": [],
   "source": [
    "#create a filtered dataframe from specific columns\n",
    "wine_data_cols = [\"winery\", \"variety\", \"description\", \"price\", \"region_1\", \"region_2\", \"points\"]\n",
    "wine_data_transformed = wine_data_150_df[wine_data_cols].copy()\n",
    "\n",
    "#rename column headers\n",
    "wine_data_transformed.drop_duplicates\n",
    "wine_data_transformed.set_index\n",
    "\n",
    "wine_data_transformed.head()"
   ]
  },
  {
   "cell_type": "code",
   "execution_count": null,
   "metadata": {},
   "outputs": [],
   "source": [
    "wine_data_transformed.describe()"
   ]
  },
  {
   "cell_type": "code",
   "execution_count": null,
   "metadata": {},
   "outputs": [],
   "source": [
    "#We observed that price increases as wine points increase but only up until 97 and then it either doesn't matter or price decreases.\n",
    "#When you look at the bottom left quadrant you can observe the max point in the top right is the most expensive bottle of wine ($2300) and the wine with the highest points. However, that same visual shows"
   ]
  },
  {
   "cell_type": "code",
   "execution_count": null,
   "metadata": {},
   "outputs": [],
   "source": [
    "#create a filtered dataframe from specific columns\n",
    "wine_data_json_cols = [\"winery\", \"variety\", \"description\", \"price\", \"region_1\", \"region_2\", \"points\"]\n",
    "wine_data_json_transformed = wine_data_json_df[wine_data_cols].copy()\n",
    "\n",
    "#rename column headers\n",
    "wine_data_json_transformed.drop_duplicates\n",
    "wine_data_json_transformed.set_index\n",
    "\n",
    "wine_data_json_transformed.head()"
   ]
  },
  {
   "cell_type": "markdown",
   "metadata": {},
   "source": [
    "# Visualize Data and make observations"
   ]
  },
  {
   "cell_type": "code",
   "execution_count": null,
   "metadata": {},
   "outputs": [],
   "source": [
    "pd.plotting.scatter_matrix(wine_data_transformed, alpha=0.8,figsize=(20,10))\n",
    "\n",
    "# wine_data_transformed.plot(figsize=(20,10))\n",
    "# plt.figure(figsize=(1200,1200))"
   ]
  },
  {
   "cell_type": "code",
   "execution_count": null,
   "metadata": {},
   "outputs": [],
   "source": [
    "#observations:\n",
    "#The bottom left quadrant displays the "
   ]
  },
  {
   "cell_type": "markdown",
   "metadata": {},
   "source": [
    "# Create database connection"
   ]
  },
  {
   "cell_type": "code",
   "execution_count": null,
   "metadata": {},
   "outputs": [],
   "source": [
    "#create database connection\n",
    "connection_string = \"postgres:J3hovah@localhost:5432/alcohol_etl\"\n",
    "engine = create_engine(f'postgresql://{connection_string}')"
   ]
  },
  {
   "cell_type": "code",
   "execution_count": null,
   "metadata": {},
   "outputs": [],
   "source": [
    "#confirm tables\n",
    "engine.table_names()"
   ]
  },
  {
   "cell_type": "markdown",
   "metadata": {},
   "source": [
    "# Continue cleaning and transforming data"
   ]
  },
  {
   "cell_type": "code",
   "execution_count": null,
   "metadata": {},
   "outputs": [],
   "source": [
    "wine_data_json_transformed.index.name=\"id\"\n",
    "wine_data_json_transformed.head()"
   ]
  },
  {
   "cell_type": "code",
   "execution_count": null,
   "metadata": {},
   "outputs": [],
   "source": [
    "wine_data_transformed.index.name=\"id\"\n",
    "wine_data_transformed.head()"
   ]
  },
  {
   "cell_type": "code",
   "execution_count": null,
   "metadata": {},
   "outputs": [],
   "source": [
    "wine_data_json_transformed.dropna(how='all', inplace=True)"
   ]
  },
  {
   "cell_type": "code",
   "execution_count": null,
   "metadata": {},
   "outputs": [],
   "source": [
    "wine_data_transformed.dropna(how='all', inplace=True)"
   ]
  },
  {
   "cell_type": "markdown",
   "metadata": {},
   "source": [
    "# Load DataFrames into database"
   ]
  },
  {
   "cell_type": "code",
   "execution_count": null,
   "metadata": {},
   "outputs": [],
   "source": [
    "#load dataframes into database\n",
    "# wine_data_json_transformed.to_sql(name=\"wine_data_json_transformed\", con=engine, if_exists=\"append\", index=True)\n"
   ]
  },
  {
   "cell_type": "code",
   "execution_count": null,
   "metadata": {},
   "outputs": [],
   "source": [
    "#load dataframes into database\n",
    "# wine_data_transformed.to_sql(name=\"wine_data_transformed\", con=engine, if_exists=\"append\", index=True)\n"
   ]
  }
 ],
 "metadata": {
  "kernelspec": {
   "display_name": "Python 3",
   "language": "python",
   "name": "python3"
  },
  "language_info": {
   "codemirror_mode": {
    "name": "ipython",
    "version": 3
   },
   "file_extension": ".py",
   "mimetype": "text/x-python",
   "name": "python",
   "nbconvert_exporter": "python",
   "pygments_lexer": "ipython3",
   "version": "3.8.3"
  }
 },
 "nbformat": 4,
 "nbformat_minor": 4
}
